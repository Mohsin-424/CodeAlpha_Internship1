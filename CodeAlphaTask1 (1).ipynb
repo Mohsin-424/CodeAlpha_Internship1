{
 "cells": [
  {
   "cell_type": "markdown",
   "id": "738c564f-6522-4b52-ac0d-4e4f491c17d1",
   "metadata": {},
   "source": [
    "# Task 1 Code Alpha Practice"
   ]
  },
  {
   "cell_type": "markdown",
   "id": "ab369826-1f79-4cc7-9dce-0563d495ebee",
   "metadata": {},
   "source": [
    "# Fabonaci Generator"
   ]
  },
  {
   "cell_type": "code",
   "execution_count": 7,
   "id": "6135f377-5e4c-4527-a152-168927f2f59a",
   "metadata": {},
   "outputs": [
    {
     "name": "stdin",
     "output_type": "stream",
     "text": [
      "Enter the number of Fibonacci terms you want:  10\n"
     ]
    },
    {
     "name": "stdout",
     "output_type": "stream",
     "text": [
      "Fibonacci sequence up to 10 terms:\n",
      "[0, 1, 1, 2, 3, 5, 8, 13, 21, 34]\n"
     ]
    }
   ],
   "source": [
    "def fibonacci_sequence(n):\n",
    "    # Initialize the first two Fibonacci numbers\n",
    "    fib_list = [0, 1]\n",
    "    \n",
    "    # Generate Fibonacci numbers up to the nth term\n",
    "    for i in range(2, n):\n",
    "        next_fib = fib_list[-1] + fib_list[-2]\n",
    "        fib_list.append(next_fib)\n",
    "    \n",
    "    return fib_list\n",
    "\n",
    "# Ask the user for the number of terms\n",
    "num_terms = int(input(\"Enter the number of Fibonacci terms you want: \"))\n",
    "\n",
    "# Generate the Fibonacci sequence\n",
    "fib_sequence = fibonacci_sequence(num_terms)\n",
    "\n",
    "# Print the Fibonacci sequence\n",
    "print(\"Fibonacci sequence up to\", num_terms, \"terms:\")\n",
    "print(fib_sequence)\n"
   ]
  },
  {
   "cell_type": "code",
   "execution_count": null,
   "id": "c2d3491a-9f88-4ed4-a2cc-18269dbd7070",
   "metadata": {},
   "outputs": [],
   "source": []
  }
 ],
 "metadata": {
  "kernelspec": {
   "display_name": "Python 3 (ipykernel)",
   "language": "python",
   "name": "python3"
  },
  "language_info": {
   "codemirror_mode": {
    "name": "ipython",
    "version": 3
   },
   "file_extension": ".py",
   "mimetype": "text/x-python",
   "name": "python",
   "nbconvert_exporter": "python",
   "pygments_lexer": "ipython3",
   "version": "3.11.7"
  }
 },
 "nbformat": 4,
 "nbformat_minor": 5
}
